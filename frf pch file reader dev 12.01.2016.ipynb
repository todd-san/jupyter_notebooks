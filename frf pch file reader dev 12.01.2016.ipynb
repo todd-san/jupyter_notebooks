{
 "cells": [
  {
   "cell_type": "code",
   "execution_count": 1,
   "metadata": {
    "collapsed": false
   },
   "outputs": [
    {
     "ename": "IOError",
     "evalue": "[Errno 2] No such file or directory: 'efrf_v1_ex1.pch'",
     "output_type": "error",
     "traceback": [
      "\u001b[1;31m---------------------------------------------------------------------------\u001b[0m",
      "\u001b[1;31mIOError\u001b[0m                                   Traceback (most recent call last)",
      "\u001b[1;32m<ipython-input-1-b5b3df077e5c>\u001b[0m in \u001b[0;36m<module>\u001b[1;34m()\u001b[0m\n\u001b[0;32m     28\u001b[0m \u001b[1;31m# Loading FRF File\u001b[0m\u001b[1;33m\u001b[0m\u001b[1;33m\u001b[0m\u001b[0m\n\u001b[0;32m     29\u001b[0m \u001b[1;31m##########################################\u001b[0m\u001b[1;33m\u001b[0m\u001b[1;33m\u001b[0m\u001b[0m\n\u001b[1;32m---> 30\u001b[1;33m \u001b[0mf\u001b[0m     \u001b[1;33m=\u001b[0m \u001b[0mopen\u001b[0m\u001b[1;33m(\u001b[0m\u001b[1;34m'efrf_v1_ex1.pch'\u001b[0m\u001b[1;33m)\u001b[0m\u001b[1;33m\u001b[0m\u001b[0m\n\u001b[0m\u001b[0;32m     31\u001b[0m \u001b[0mf_lst\u001b[0m \u001b[1;33m=\u001b[0m \u001b[1;33m[\u001b[0m\u001b[1;33m]\u001b[0m\u001b[1;33m\u001b[0m\u001b[0m\n\u001b[0;32m     32\u001b[0m \u001b[1;32mfor\u001b[0m \u001b[0mrow\u001b[0m \u001b[1;32min\u001b[0m \u001b[0mf\u001b[0m\u001b[1;33m:\u001b[0m\u001b[1;33m\u001b[0m\u001b[0m\n",
      "\u001b[1;31mIOError\u001b[0m: [Errno 2] No such file or directory: 'efrf_v1_ex1.pch'"
     ]
    }
   ],
   "source": [
    "import numpy as np\n",
    "\n",
    "class FRF_PCH(object):\n",
    "\n",
    "\tdef __init__(self, input):\n",
    "\t\tself.header, self.output_sets, self.num_ds = self.read_header(input)\n",
    "\t\tself.length = len(input)\n",
    "\n",
    "\tdef read_header(self, input):\n",
    "\t\theader = []\n",
    "\t\tcount = []\n",
    "\t\textra_lines = []\n",
    "\t\tfor i, row in enumerate(input):\n",
    "\t\t\tif row[0] == '$':\n",
    "\t\t\t\theader.append(row)\n",
    "\t\t\telif i > 0 and input[i-1][0] == '$':\n",
    "\t\t\t\tcount.append(i)\n",
    "\n",
    "\t\t\telif i > 0 and input[i][0] == '-':\n",
    "\t\t\t\textra_lines.append(i)\n",
    "\t\t\telse:\n",
    "\t\t\t\tpass\n",
    "\n",
    "\t\tnum_ds = set(np.diff(extra_lines))\n",
    "\t\toutput_sets = len(set(np.diff(count)))\n",
    "\t\treturn header, output_sets, num_ds\n",
    "\n",
    "# Loading FRF File\n",
    "##########################################\n",
    "f     = open('efrf_v1_ex1.pch')\n",
    "f_lst = []\n",
    "for row in f:\n",
    "\tf_lst.append(row)\n",
    "##########################################\n",
    "\n",
    "\n",
    "# Toying around with some shit\n",
    "pch = FRF_PCH(f_lst)\n",
    "print pch.output_sets\n",
    "print pch.num_ds"
   ]
  },
  {
   "cell_type": "code",
   "execution_count": null,
   "metadata": {
    "collapsed": true
   },
   "outputs": [],
   "source": []
  }
 ],
 "metadata": {
  "anaconda-cloud": {},
  "kernelspec": {
   "display_name": "Python [Root]",
   "language": "python",
   "name": "Python [Root]"
  },
  "language_info": {
   "codemirror_mode": {
    "name": "ipython",
    "version": 2
   },
   "file_extension": ".py",
   "mimetype": "text/x-python",
   "name": "python",
   "nbconvert_exporter": "python",
   "pygments_lexer": "ipython2",
   "version": "2.7.12"
  }
 },
 "nbformat": 4,
 "nbformat_minor": 0
}
