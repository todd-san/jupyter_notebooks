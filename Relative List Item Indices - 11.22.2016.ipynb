{
 "cells": [
  {
   "cell_type": "markdown",
   "metadata": {},
   "source": [
    "## Two lists with same information, different order\n",
    "\n",
    "###  - I need to get the relationship of item indices \n",
    "    \n",
    "    - ns: ordered nodes along the exhaust line (in spatial sequential order)\n",
    "    - ps: pch file result output order (in order by ascending node ID)"
   ]
  },
  {
   "cell_type": "code",
   "execution_count": 1,
   "metadata": {
    "collapsed": true
   },
   "outputs": [],
   "source": [
    "ns = [126395, 129513, 129435, 132722, 132674, 132605, 132542, 132472, 132413, \n",
    "      132345, 132311, 130035, 130014, 129973, 129939, 129910, 130137, 131357,\n",
    "      131347, 131312, 131080, 131055, 131019, 130965, 130896, 136085, 134663,\n",
    "      134681, 134723, 134766, 136150, 136093, 134926, 132749, 132812, 132882,\n",
    "      132951, 133652, 133711, 133778, 133856, 133909, 134001, 134061, 134117,\n",
    "      757, 106411, 106471, 48288, 48474, 82921, 93674, 103754, 118215, 106532,\n",
    "      50489, 48876, 9959, 2492, 4116, 4242, 4380, 2154, 27068, 27432, 27683,\n",
    "      27931, 28186, 28433, 28683, 28933, 29186, 29439, 29690, 29942, 30139,\n",
    "      30388, 30639, 30883, 31133, 31336, 31561, 31749, 32148]\n",
    "\n",
    "ps = [757, 2154, 2492, 4116, 4242, 4380, 9959, 27068, 27432, 27683, 27931,\n",
    "      28186, 28433, 28683, 28933, 29186, 29439, 29690, 29942, 30139, 30388,\n",
    "      30639, 30883, 31133, 31336, 31561, 31749, 32148, 48288, 48474, 48876,\n",
    "      50489, 82921, 93674, 103754, 106411, 106471, 106532, 118215, 126395,\n",
    "      129435, 129513, 129910, 129939, 129973, 130014, 130035, 130137,\n",
    "      130896, 130965, 131019, 131055, 131080, 131312, 131347, 131357,\n",
    "      132311, 132345, 132413, 132472, 132542, 132605, 132674, 132722,\n",
    "      132749, 132812, 132882, 132951, 133652, 133711, 133778, 133856,\n",
    "      133909, 134001, 134061, 134117, 134663, 134681, 134723, 134766,\n",
    "      134926, 136085, 136093, 136150]"
   ]
  },
  {
   "cell_type": "markdown",
   "metadata": {},
   "source": [
    "#### Quick Nested for-loop, for every item within 'ns' it looks through 'ps' for a match\n",
    "\n",
    "    - New list is instantiated (ns_2_ps)\n",
    "    - If a match is found then:\n",
    "        - address of the 'item' in 'ns' is added to the new list (i)\n",
    "        - address of the 'item' in 'ps' is added to the new list (j)\n",
    "        - the item is added to the new list (p_item or n_item)"
   ]
  },
  {
   "cell_type": "code",
   "execution_count": 2,
   "metadata": {
    "collapsed": false
   },
   "outputs": [],
   "source": [
    "ns_2_ps = []\n",
    "for i, n_item in enumerate(ns):\n",
    "    for j, p_item in enumerate(ps):\n",
    "        if n_item == p_item:\n",
    "            ns_2_ps.append([i,j, p_item])"
   ]
  },
  {
   "cell_type": "markdown",
   "metadata": {},
   "source": [
    "#### A Simple for-loop such that I can reference the results of the search\n",
    "\n",
    "    - This could easily be done in the above cell as well."
   ]
  },
  {
   "cell_type": "code",
   "execution_count": 4,
   "metadata": {
    "collapsed": false
   },
   "outputs": [
    {
     "name": "stdout",
     "output_type": "stream",
     "text": [
      "0 , 39 , 126395\n",
      "1 , 41 , 129513\n",
      "2 , 40 , 129435\n",
      "3 , 63 , 132722\n",
      "4 , 62 , 132674\n",
      "5 , 61 , 132605\n",
      "6 , 60 , 132542\n",
      "7 , 59 , 132472\n",
      "8 , 58 , 132413\n",
      "9 , 57 , 132345\n",
      "10 , 56 , 132311\n",
      "11 , 46 , 130035\n",
      "12 , 45 , 130014\n",
      "13 , 44 , 129973\n",
      "14 , 43 , 129939\n",
      "15 , 42 , 129910\n",
      "16 , 47 , 130137\n",
      "17 , 55 , 131357\n",
      "18 , 54 , 131347\n",
      "19 , 53 , 131312\n",
      "20 , 52 , 131080\n",
      "21 , 51 , 131055\n",
      "22 , 50 , 131019\n",
      "23 , 49 , 130965\n",
      "24 , 48 , 130896\n",
      "25 , 81 , 136085\n",
      "26 , 76 , 134663\n",
      "27 , 77 , 134681\n",
      "28 , 78 , 134723\n",
      "29 , 79 , 134766\n",
      "30 , 83 , 136150\n",
      "31 , 82 , 136093\n",
      "32 , 80 , 134926\n",
      "33 , 64 , 132749\n",
      "34 , 65 , 132812\n",
      "35 , 66 , 132882\n",
      "36 , 67 , 132951\n",
      "37 , 68 , 133652\n",
      "38 , 69 , 133711\n",
      "39 , 70 , 133778\n",
      "40 , 71 , 133856\n",
      "41 , 72 , 133909\n",
      "42 , 73 , 134001\n",
      "43 , 74 , 134061\n",
      "44 , 75 , 134117\n",
      "45 , 0 , 757\n",
      "46 , 35 , 106411\n",
      "47 , 36 , 106471\n",
      "48 , 28 , 48288\n",
      "49 , 29 , 48474\n",
      "50 , 32 , 82921\n",
      "51 , 33 , 93674\n",
      "52 , 34 , 103754\n",
      "53 , 38 , 118215\n",
      "54 , 37 , 106532\n",
      "55 , 31 , 50489\n",
      "56 , 30 , 48876\n",
      "57 , 6 , 9959\n",
      "58 , 2 , 2492\n",
      "59 , 3 , 4116\n",
      "60 , 4 , 4242\n",
      "61 , 5 , 4380\n",
      "62 , 1 , 2154\n",
      "63 , 7 , 27068\n",
      "64 , 8 , 27432\n",
      "65 , 9 , 27683\n",
      "66 , 10 , 27931\n",
      "67 , 11 , 28186\n",
      "68 , 12 , 28433\n",
      "69 , 13 , 28683\n",
      "70 , 14 , 28933\n",
      "71 , 15 , 29186\n",
      "72 , 16 , 29439\n",
      "73 , 17 , 29690\n",
      "74 , 18 , 29942\n",
      "75 , 19 , 30139\n",
      "76 , 20 , 30388\n",
      "77 , 21 , 30639\n",
      "78 , 22 , 30883\n",
      "79 , 23 , 31133\n",
      "80 , 24 , 31336\n",
      "81 , 25 , 31561\n",
      "82 , 26 , 31749\n",
      "83 , 27 , 32148\n"
     ]
    }
   ],
   "source": [
    "for item in ns_2_ps:\n",
    "    print item[0], ',', item[1], ',', item[2]"
   ]
  },
  {
   "cell_type": "code",
   "execution_count": null,
   "metadata": {
    "collapsed": true
   },
   "outputs": [],
   "source": []
  }
 ],
 "metadata": {
  "anaconda-cloud": {},
  "kernelspec": {
   "display_name": "Python [Root]",
   "language": "python",
   "name": "Python [Root]"
  },
  "language_info": {
   "codemirror_mode": {
    "name": "ipython",
    "version": 2
   },
   "file_extension": ".py",
   "mimetype": "text/x-python",
   "name": "python",
   "nbconvert_exporter": "python",
   "pygments_lexer": "ipython2",
   "version": "2.7.12"
  }
 },
 "nbformat": 4,
 "nbformat_minor": 0
}
