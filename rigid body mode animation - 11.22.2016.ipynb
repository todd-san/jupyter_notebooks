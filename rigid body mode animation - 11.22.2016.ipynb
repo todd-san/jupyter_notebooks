{
 "cells": [
  {
   "cell_type": "markdown",
   "metadata": {},
   "source": [
    "# Lorenz 3d Animation with Matplotlib "
   ]
  },
  {
   "cell_type": "markdown",
   "metadata": {},
   "source": [
    "---\n",
    "## Create Set Of Arbitrary Points to Animate\n",
    "    I'm going to pretend that I have an engine mounted in four places and\n",
    "    I want to animate the rigid body motion."
   ]
  },
  {
   "cell_type": "code",
   "execution_count": 29,
   "metadata": {
    "collapsed": false
   },
   "outputs": [],
   "source": [
    "import numpy as np\n",
    "from scipy import integrate\n",
    "\n",
    "from matplotlib import pyplot as plt\n",
    "from mpl_toolkits.mplot3d import Axes3D\n",
    "from matplotlib.colors import cnames\n",
    "from matplotlib import animation\n",
    "\n",
    "# arbitrary 'mode' frequency, or natural frequency\n",
    "wn = 10\n",
    "\n",
    "# arbitrary amount of time the animation should perform\n",
    "t = np.arange(0,100,0.01)\n",
    "\n",
    "# arbitary eigenvectors for 6 free-body modes in 6DOF\n",
    "eigv = [-3.406e-2, -1.654e-1, 1.672e-1, -9.988e-1, -3.823e-1, -7.623e-2]\n",
    "# eigv = [-4.619e-1,  3.597e-1, -4.013e-4,  1.361e-2, -8.785e-1,  9.680e-1]\n",
    "# eigv = [-8.862e-1, -9.180e-1, -9.860e-1, -4.679e-2,  2.864e-1,  2.389e-1]\n",
    "# eigv = [-1.503e-2,  1.845e-3,  1.646e-3,  4.313e-5,  8.095e-4, -1.391e-3]\n",
    "# eigv = [ 1.968e-3,  3.761e-3, -1.553e-3, -1.562e-3,  8.576e-3,  2.219e-3]\n",
    "# eigv = [ 3.315e-3,  6.037e-3, -8.172e-3, -6.324e-4, -3.541e-3, -2.326e-3]\n",
    "\n",
    "# generating inital arbitrary point cloud\n",
    "eng = [1500, -10, 140]\n",
    "pt1 = [1700, -250, 15]\n",
    "pt2 = [1400, -250, 10]\n",
    "pt3 = [1375, 200, 0]\n",
    "pt4 = [1725, 200, 25]\n",
    "\n",
    "p_cld = [eng, pt1, pt2, pt3, pt4]\n",
    "pts   = np.array(p_cld)\n",
    "\n"
   ]
  },
  {
   "cell_type": "markdown",
   "metadata": {},
   "source": [
    "#### Here I plot my point cloud array in a 3d scatter to get an idea of how it looks"
   ]
  },
  {
   "cell_type": "code",
   "execution_count": 31,
   "metadata": {
    "collapsed": false
   },
   "outputs": [
    {
     "name": "stdout",
     "output_type": "stream",
     "text": [
      "[[1500  -10  140]\n",
      " [1700 -250   15]\n",
      " [1400 -250   10]\n",
      " [1375  200    0]\n",
      " [1725  200   25]]\n"
     ]
    }
   ],
   "source": [
    "# % matplotlib inline\n",
    "fig = plt.figure()\n",
    "ax  = fig.add_axes([0, 0, 1, 1], projection='3d')\n",
    "\n",
    "for pt in pts:\n",
    "    ax.scatter(pt[0],pt[1],pt[2], s=200, marker='o')\n",
    "\n",
    "ax.set_xlabel('X')\n",
    "ax.set_ylabel('Y')\n",
    "ax.set_zlabel('Z')\n",
    "\n",
    "print pts\n",
    "    "
   ]
  },
  {
   "cell_type": "markdown",
   "metadata": {},
   "source": [
    "#### Now I must generate the data that governs how these points move\n",
    "\n",
    "    - Basically I'm only generating data for the 'eng' point.\n",
    "    - Movement in a specific DOF is dictated by that eigenvalue's\n",
    "      relationship to the other eigenvalues in the eigenvector \n",
    "          - (+/-) for phase relationship\n",
    "          - magnitude for scale relationship\n",
    "          \n",
    "    - After generating the data I will have to transform and rotate the rest\n",
    "      of the values in the point cloud appropriately"
   ]
  },
  {
   "cell_type": "code",
   "execution_count": 122,
   "metadata": {
    "collapsed": false
   },
   "outputs": [
    {
     "name": "stdout",
     "output_type": "stream",
     "text": [
      "(10000, 6)\n",
      "[[1500  -10  140]\n",
      " [1700 -250   15]\n",
      " [1400 -250   10]\n",
      " [1375  200    0]\n",
      " [1725  200   25]]\n"
     ]
    }
   ],
   "source": [
    "def periodic_motion_gen(eigv, wn, time):\n",
    "    #I probably want to increase the scale of the movement\n",
    "    t_sf = 50  # scale factor for translation\n",
    "    r_sf = .5   # scale factor for rotation\n",
    "    dx = []    \n",
    "    for i, eig in enumerate(eigv):\n",
    "        if i<3:\n",
    "            dx.append(eig*np.sin(wn*t)*t_sf)\n",
    "        else:\n",
    "            dx.append(eig*np.sin(wn*t)*r_sf)\n",
    "    np.array(dx)\n",
    "    return np.transpose(dx)\n",
    "\n",
    "dx = periodic_motion_gen(eigv, wn, t)\n",
    "\n",
    "print np.shape(dx)\n",
    "print pts"
   ]
  },
  {
   "cell_type": "markdown",
   "metadata": {},
   "source": [
    "#### I need functions to do the following for a given point in time\n",
    "    1. Generate the 3D path my CG will move on, since its movement governs\n",
    "       what all the other points should be doing.\n",
    "       \n",
    "    2. Toss new 3D path, to a execute function with 1 pt from the pt cloud\n",
    "       at a time... \n",
    "           - Basically the CG path will be used as a reference to \n",
    "             generate the paths of subsequent points\n",
    "       \n",
    "   \n",
    "      "
   ]
  },
  {
   "cell_type": "markdown",
   "metadata": {},
   "source": [
    "##### #1 Generate 3D Path for CG point"
   ]
  },
  {
   "cell_type": "code",
   "execution_count": 123,
   "metadata": {
    "collapsed": false
   },
   "outputs": [],
   "source": [
    "def create_cg_path(cg, dx):\n",
    "    cg_p = []\n",
    "    for i, dx_i in enumerate(dx):\n",
    "        cg += dx_i[:3]\n",
    "        cg_p.append([cg[0], cg[1], cg[2]])\n",
    "    return np.asarray(cg_p)\n",
    "\n",
    "# checker\n",
    "cg_path = create_cg_path(cg=[1500, -10, 140], dx=dx)\n",
    "\n"
   ]
  },
  {
   "cell_type": "markdown",
   "metadata": {},
   "source": [
    "##### #2 Create Paths for all the other points in the point cloud 1X1"
   ]
  },
  {
   "cell_type": "code",
   "execution_count": 132,
   "metadata": {
    "collapsed": false,
    "scrolled": false
   },
   "outputs": [
    {
     "name": "stdout",
     "output_type": "stream",
     "text": [
      "[[1500  -10  140]\n",
      " [1700 -250   15]\n",
      " [1400 -250   10]\n",
      " [1375  200    0]\n",
      " [1725  200   25]]\n"
     ]
    },
    {
     "ename": "TypeError",
     "evalue": "Cannot cast ufunc add output from dtype('float64') to dtype('int32') with casting rule 'same_kind'",
     "output_type": "error",
     "traceback": [
      "\u001b[1;31m---------------------------------------------------------------------------\u001b[0m",
      "\u001b[1;31mTypeError\u001b[0m                                 Traceback (most recent call last)",
      "\u001b[1;32m<ipython-input-132-241cac4596a8>\u001b[0m in \u001b[0;36m<module>\u001b[1;34m()\u001b[0m\n\u001b[0;32m     76\u001b[0m \u001b[1;33m\u001b[0m\u001b[0m\n\u001b[0;32m     77\u001b[0m \u001b[1;32mprint\u001b[0m \u001b[0mpts\u001b[0m\u001b[1;33m\u001b[0m\u001b[0m\n\u001b[1;32m---> 78\u001b[1;33m \u001b[0mpt_path\u001b[0m \u001b[1;33m=\u001b[0m \u001b[0mnp\u001b[0m\u001b[1;33m.\u001b[0m\u001b[0masarray\u001b[0m\u001b[1;33m(\u001b[0m\u001b[1;33m[\u001b[0m\u001b[0mcreate_pt_paths\u001b[0m\u001b[1;33m(\u001b[0m\u001b[0mcg_path\u001b[0m\u001b[1;33m,\u001b[0m \u001b[0mdx\u001b[0m\u001b[1;33m,\u001b[0m \u001b[0mpt\u001b[0m\u001b[1;33m=\u001b[0m\u001b[0mp\u001b[0m\u001b[1;33m)\u001b[0m \u001b[1;32mfor\u001b[0m \u001b[0mp\u001b[0m \u001b[1;32min\u001b[0m \u001b[0mpts\u001b[0m\u001b[1;33m]\u001b[0m\u001b[1;33m)\u001b[0m\u001b[1;33m\u001b[0m\u001b[0m\n\u001b[0m\u001b[0;32m     79\u001b[0m \u001b[0mpt_path\u001b[0m \u001b[1;33m=\u001b[0m \u001b[0mnp\u001b[0m\u001b[1;33m.\u001b[0m\u001b[0msqueeze\u001b[0m\u001b[1;33m(\u001b[0m\u001b[0mpt_path\u001b[0m\u001b[1;33m)\u001b[0m\u001b[1;33m\u001b[0m\u001b[0m\n\u001b[0;32m     80\u001b[0m \u001b[1;32mprint\u001b[0m \u001b[0mnp\u001b[0m\u001b[1;33m.\u001b[0m\u001b[0mshape\u001b[0m\u001b[1;33m(\u001b[0m\u001b[0mpt_path\u001b[0m\u001b[1;33m)\u001b[0m\u001b[1;33m\u001b[0m\u001b[0m\n",
      "\u001b[1;32m<ipython-input-132-241cac4596a8>\u001b[0m in \u001b[0;36mcreate_pt_paths\u001b[1;34m(cg_path, dx, pt)\u001b[0m\n\u001b[0;32m     67\u001b[0m \u001b[1;33m\u001b[0m\u001b[0m\n\u001b[0;32m     68\u001b[0m     \u001b[1;32mfor\u001b[0m \u001b[0mi\u001b[0m\u001b[1;33m,\u001b[0m \u001b[0minst\u001b[0m \u001b[1;32min\u001b[0m \u001b[0menumerate\u001b[0m\u001b[1;33m(\u001b[0m\u001b[0mcg_path\u001b[0m\u001b[1;33m)\u001b[0m\u001b[1;33m:\u001b[0m\u001b[1;33m\u001b[0m\u001b[0m\n\u001b[1;32m---> 69\u001b[1;33m         \u001b[0mpt_f1\u001b[0m \u001b[1;33m=\u001b[0m \u001b[0mtrans_pt_by_sig\u001b[0m\u001b[1;33m(\u001b[0m\u001b[0mpt\u001b[0m\u001b[1;33m,\u001b[0m \u001b[0minst\u001b[0m\u001b[1;33m,\u001b[0m \u001b[0mi\u001b[0m\u001b[1;33m)\u001b[0m\u001b[1;33m\u001b[0m\u001b[0m\n\u001b[0m\u001b[0;32m     70\u001b[0m         \u001b[0mpt_f2\u001b[0m \u001b[1;33m=\u001b[0m \u001b[0mtrans_pt_2_origin\u001b[0m\u001b[1;33m(\u001b[0m\u001b[0mpt_f1\u001b[0m\u001b[1;33m,\u001b[0m \u001b[0minst\u001b[0m\u001b[1;33m,\u001b[0m \u001b[0mi\u001b[0m\u001b[1;33m)\u001b[0m\u001b[1;33m\u001b[0m\u001b[0m\n\u001b[0;32m     71\u001b[0m         \u001b[0mpt_f3\u001b[0m \u001b[1;33m=\u001b[0m \u001b[0mrotate_pt\u001b[0m\u001b[1;33m(\u001b[0m\u001b[0mpt_f2\u001b[0m\u001b[1;33m,\u001b[0m \u001b[0minst\u001b[0m\u001b[1;33m,\u001b[0m \u001b[0mi\u001b[0m\u001b[1;33m)\u001b[0m\u001b[1;33m\u001b[0m\u001b[0m\n",
      "\u001b[1;32m<ipython-input-132-241cac4596a8>\u001b[0m in \u001b[0;36mtrans_pt_by_sig\u001b[1;34m(p, xi, i)\u001b[0m\n\u001b[0;32m      5\u001b[0m     \u001b[1;32mdef\u001b[0m \u001b[0mtrans_pt_by_sig\u001b[0m\u001b[1;33m(\u001b[0m\u001b[0mp\u001b[0m\u001b[1;33m,\u001b[0m \u001b[0mxi\u001b[0m\u001b[1;33m,\u001b[0m \u001b[0mi\u001b[0m\u001b[1;33m)\u001b[0m\u001b[1;33m:\u001b[0m\u001b[1;33m\u001b[0m\u001b[0m\n\u001b[0;32m      6\u001b[0m         \u001b[0mtpbs\u001b[0m \u001b[1;33m=\u001b[0m \u001b[1;33m[\u001b[0m\u001b[1;33m]\u001b[0m\u001b[1;33m\u001b[0m\u001b[0m\n\u001b[1;32m----> 7\u001b[1;33m         \u001b[0mp\u001b[0m \u001b[1;33m+=\u001b[0m \u001b[0mdx\u001b[0m\u001b[1;33m[\u001b[0m\u001b[0mi\u001b[0m\u001b[1;33m]\u001b[0m\u001b[1;33m[\u001b[0m\u001b[1;33m:\u001b[0m\u001b[1;36m3\u001b[0m\u001b[1;33m]\u001b[0m\u001b[1;33m\u001b[0m\u001b[0m\n\u001b[0m\u001b[0;32m      8\u001b[0m         \u001b[0mtpbs\u001b[0m\u001b[1;33m.\u001b[0m\u001b[0mappend\u001b[0m\u001b[1;33m(\u001b[0m\u001b[1;33m[\u001b[0m\u001b[0mp\u001b[0m\u001b[1;33m[\u001b[0m\u001b[1;36m0\u001b[0m\u001b[1;33m]\u001b[0m\u001b[1;33m,\u001b[0m \u001b[0mp\u001b[0m\u001b[1;33m[\u001b[0m\u001b[1;36m1\u001b[0m\u001b[1;33m]\u001b[0m\u001b[1;33m,\u001b[0m \u001b[0mp\u001b[0m\u001b[1;33m[\u001b[0m\u001b[1;36m2\u001b[0m\u001b[1;33m]\u001b[0m\u001b[1;33m]\u001b[0m\u001b[1;33m)\u001b[0m\u001b[1;33m\u001b[0m\u001b[0m\n\u001b[0;32m      9\u001b[0m         \u001b[1;32mreturn\u001b[0m \u001b[0mnp\u001b[0m\u001b[1;33m.\u001b[0m\u001b[0masarray\u001b[0m\u001b[1;33m(\u001b[0m\u001b[0mtpbs\u001b[0m\u001b[1;33m)\u001b[0m\u001b[1;33m\u001b[0m\u001b[0m\n",
      "\u001b[1;31mTypeError\u001b[0m: Cannot cast ufunc add output from dtype('float64') to dtype('int32') with casting rule 'same_kind'"
     ]
    }
   ],
   "source": [
    "\n",
    "def create_pt_paths(cg_path, dx, pt):\n",
    "    pt_path = []\n",
    "    \n",
    "    def trans_pt_by_sig(p, xi, i):\n",
    "        tpbs = []\n",
    "        p += dx[i][:3]\n",
    "        tpbs.append([p[0], p[1], p[2]])\n",
    "        return np.asarray(tpbs)\n",
    "    \n",
    "    \n",
    "    def trans_pt_2_origin(p, xi, i):\n",
    "        tp2o = []\n",
    "        T = np.matrix([[1, 0, 0, -xi[0]],\n",
    "                       [0, 1, 0, -xi[1]],\n",
    "                       [0, 0, 1, -xi[2]],\n",
    "                       [0, 0, 0,     1]])\n",
    "        \n",
    "        tmp = np.insert(p,3,1)\n",
    "        tmp = np.matmul(T,tmp)\n",
    "        tmp = np.delete(tmp,3)\n",
    "        tp2o.append(tmp)\n",
    "        return np.asarray(tp2o)\n",
    "    \n",
    "    \n",
    "    def rotate_pt(p, xi, i):\n",
    "        rp = []\n",
    "        a = dx[i][3]\n",
    "        b = dx[i][4]\n",
    "        g = dx[i][5]\n",
    "        \n",
    "        Rx = np.matrix([[1,         0,          0],\n",
    "                        [0, np.cos(a), -np.sin(a)],\n",
    "                        [0, np.sin(a), np.cos(a)]])\n",
    "\n",
    "        Ry = np.matrix([[ np.cos(b), 0,  np.sin(b)],\n",
    "                        [        0,  1,          0],\n",
    "                        [-np.sin(b), 0,  np.cos(b)]])\n",
    "\n",
    "        Rz = np.matrix([[np.cos(g), -np.sin(g), 0],\n",
    "                        [np.sin(g),  np.cos(g), 0],\n",
    "                        [        0,          0, 1]])\n",
    "        \n",
    "        p = np.squeeze(p)\n",
    "        tmp = p\n",
    "        tmp = np.matmul(tmp,Rx)\n",
    "        tmp = np.matmul(tmp,Ry)\n",
    "        tmp = np.matmul(tmp,Rz)\n",
    "        rp.append(tmp)\n",
    "        return np.asarray(rp)\n",
    "    \n",
    "    def trans_pt_2_cg_instance(p, xi, i):\n",
    "        tp2ci = []\n",
    "        T = np.matrix([[1, 0, 0, -xi[0]],\n",
    "                       [0, 1, 0, -xi[1]],\n",
    "                       [0, 0, 1, -xi[2]],\n",
    "                       [0, 0, 0,     1]])\n",
    "        \n",
    "        invT = np.linalg.inv(T)\n",
    "    \n",
    "        tmp = np.insert(p,3,1)\n",
    "        tmp = np.matmul(invT, tmp)\n",
    "        tmp = np.delete(tmp, 3)\n",
    "    \n",
    "        tp2ci.append(tmp)\n",
    "        return np.asarray(tp2ci)\n",
    "    \n",
    "    for i, inst in enumerate(cg_path):\n",
    "        pt_f1 = trans_pt_by_sig(pt, inst, i)\n",
    "        pt_f2 = trans_pt_2_origin(pt_f1, inst, i)\n",
    "        pt_f3 = rotate_pt(pt_f2, inst, i)\n",
    "        pt_f4 = trans_pt_2_cg_instance(pt_f3, inst, i)\n",
    "        pt_path.append(pt_f4)\n",
    "        \n",
    "    return np.asarray(pt_path)\n",
    "\n",
    "print pts\n",
    "pt_path = np.asarray([create_pt_paths(cg_path, dx, pt=p) for p in pts])\n",
    "pt_path = np.squeeze(pt_path)\n",
    "print np.shape(pt_path)\n",
    "\n"
   ]
  },
  {
   "cell_type": "code",
   "execution_count": 129,
   "metadata": {
    "collapsed": false
   },
   "outputs": [
    {
     "name": "stdout",
     "output_type": "stream",
     "text": [
      "(5, 10000, 3)\n"
     ]
    }
   ],
   "source": [
    "\n",
    "\n",
    "% matplotlib qt\n",
    "fig = plt.figure()\n",
    "ax  = fig.add_axes([0, 0, 1, 1], projection='3d')\n",
    "\n",
    "\n",
    "print np.shape(pt_path)\n",
    "\n",
    "\n",
    "for pt in pt_path:\n",
    "    plt.plot(pp[0][:100],pp[1][:100],pp[2][:100])\n",
    "\n",
    "\n",
    "# for i,val in enumerate(cg_path[:100]):\n",
    "#     ax.scatter(val[0], val[1], val[2])\n",
    "#     ax.scatter(pt_path[i][0], pt_path[i][1], pt_path[i][2])\n",
    "    \n",
    "# pp = np.transpose(pt_path)\n",
    "# cgp = np.transpose(cg_path)\n",
    "\n",
    "# plt.plot(pp[0][:100],pp[1][:100],pp[2][:100])\n",
    "# plt.plot(cgp[0][:100],cgp[1][:100],cgp[2][:100])\n",
    "    \n",
    "for pt in pts:\n",
    "    ax.scatter(pt[0],pt[1],pt[2], s=200, marker='o')\n",
    "\n",
    "ax.set_xlabel('X')\n",
    "ax.set_ylabel('Y')\n",
    "ax.set_zlabel('Z')\n",
    "plt.show()\n"
   ]
  },
  {
   "cell_type": "code",
   "execution_count": null,
   "metadata": {
    "collapsed": true
   },
   "outputs": [],
   "source": []
  },
  {
   "cell_type": "code",
   "execution_count": null,
   "metadata": {
    "collapsed": true
   },
   "outputs": [],
   "source": []
  }
 ],
 "metadata": {
  "kernelspec": {
   "display_name": "Python [Root]",
   "language": "python",
   "name": "Python [Root]"
  },
  "language_info": {
   "codemirror_mode": {
    "name": "ipython",
    "version": 2
   },
   "file_extension": ".py",
   "mimetype": "text/x-python",
   "name": "python",
   "nbconvert_exporter": "python",
   "pygments_lexer": "ipython2",
   "version": "2.7.12"
  }
 },
 "nbformat": 4,
 "nbformat_minor": 0
}
