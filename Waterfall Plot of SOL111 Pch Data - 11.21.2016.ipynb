{
 "cells": [
  {
   "cell_type": "markdown",
   "metadata": {
    "nbpresent": {
     "id": "c6607746-8de9-4f37-92b1-f4be97fc121a"
    }
   },
   "source": [
    "## Create Waterfall Plot from 3d Displacement Data\n",
    "    This piggy-backs off a text readout of a grid point number followed  \n",
    "    by displacement data through a fixed frequency range. \n",
    "    \n",
    "    txt file structure\n",
    "    & node id 1\n",
    "    x, y, z                  # for node 1, freq 1\n",
    "    ...\n",
    "    ...\n",
    "    x, y, z                  # for node 1, freq 180\n",
    "    & node id 2\n",
    "    x, y, z                  # for node 2, freq 1\n",
    "    ...\n",
    "  \n",
    "    \n",
    "    \n",
    "    \n",
    "#### 1.) import txt data and create two lists, one for node ID and one for disp. data"
   ]
  },
  {
   "cell_type": "code",
   "execution_count": 1,
   "metadata": {
    "collapsed": false,
    "nbpresent": {
     "id": "e515e416-38fc-4170-834a-879b5ea98ffb"
    }
   },
   "outputs": [],
   "source": [
    "import numpy as np\n",
    "\n",
    "pch_file = open(r'E:\\Users\\ra029548\\DevProjects\\1._python\\4. AutoPunchFileParse\\1. frf_try_1\\output_text\\pch_v2.txt')\n",
    "\n",
    "pch = []\n",
    "grids = [] \n",
    "for row in pch_file:\n",
    "    if row[0] != '$':\n",
    "        pch.append(row[:-1].split(','))\n",
    "    if row[0] == '$':\n",
    "        grids.append(row[1:].strip())"
   ]
  },
  {
   "cell_type": "markdown",
   "metadata": {
    "nbpresent": {
     "id": "e884cc9e-8a91-4577-8a19-859af1bc9429"
    }
   },
   "source": [
    "***\n",
    "#### 2.) A couple of print statements to check to make sure we're populating the lists as we expected."
   ]
  },
  {
   "cell_type": "code",
   "execution_count": 2,
   "metadata": {
    "collapsed": false,
    "nbpresent": {
     "id": "574b0097-c05d-47a5-86f9-ae1e5984bfaf"
    }
   },
   "outputs": [
    {
     "name": "stdout",
     "output_type": "stream",
     "text": [
      "punch data lines:  15120\n",
      "number of grids:  84\n",
      "freq. band:  180\n"
     ]
    }
   ],
   "source": [
    "print 'punch data lines: ', len(pch)\n",
    "print 'number of grids: ', len(grids)\n",
    "print 'freq. band: ', len(pch)/ len(grids)"
   ]
  },
  {
   "cell_type": "markdown",
   "metadata": {
    "nbpresent": {
     "id": "b114b0d7-cc28-4513-8ede-788569ecdac5"
    }
   },
   "source": [
    "***\n",
    "#### 3.) Convert 3D displacement into a magnitude and append to a new list"
   ]
  },
  {
   "cell_type": "code",
   "execution_count": 3,
   "metadata": {
    "collapsed": false,
    "nbpresent": {
     "id": "f4254e27-26c0-469e-b5d6-44e865433dd1"
    }
   },
   "outputs": [],
   "source": [
    "mags = []\n",
    "for row in pch:\n",
    "    mags.append(np.sqrt(float(row[0])**2 + float(row[1])**2 + float(row[2])**2))\n",
    "    "
   ]
  },
  {
   "cell_type": "markdown",
   "metadata": {
    "nbpresent": {
     "id": "7079ab4e-648f-4d96-a46c-e33a89d58bd4"
    }
   },
   "source": [
    "---\n",
    "#### 4.) List comprehension to split full 3D data list by frequency band length\n",
    "       This will make it easier to keep track of magnitude data per \n",
    "       each node"
   ]
  },
  {
   "cell_type": "code",
   "execution_count": 4,
   "metadata": {
    "collapsed": false,
    "nbpresent": {
     "id": "a3d623d7-5e54-4c85-bd5f-4aacd3220bf1"
    }
   },
   "outputs": [
    {
     "name": "stdout",
     "output_type": "stream",
     "text": [
      "84\n",
      "180\n",
      "0.00461663910848\n"
     ]
    }
   ],
   "source": [
    "chunks = [mags[x:x+180] for x in xrange(0, len(mags), 180)]\n",
    "print len(chunks)\n",
    "print len(chunks[0])\n",
    "print chunks[-1][0]"
   ]
  },
  {
   "cell_type": "markdown",
   "metadata": {
    "nbpresent": {
     "id": "a8e8e5cf-2b31-4b9a-b771-dfc52c07df4d"
    }
   },
   "source": [
    "---\n",
    "#### 5.) Grab a waterfall plot style that I liked from http://matplotlib.org/\n",
    "    Then it's a simple matter of substituting my data for the data in\n",
    "    the example source code below.\n",
    "    \n",
    "    Original Source Code: http://matplotlib.org/examples/mplot3d/polys3d_demo.html\n",
    "       "
   ]
  },
  {
   "cell_type": "code",
   "execution_count": 5,
   "metadata": {
    "collapsed": false,
    "nbpresent": {
     "id": "4bbb5371-a964-4fe5-9e17-93a9312190c0"
    }
   },
   "outputs": [],
   "source": [
    "%matplotlib qt\n",
    "from mpl_toolkits.mplot3d import Axes3D\n",
    "from matplotlib.collections import PolyCollection\n",
    "from matplotlib.colors import colorConverter\n",
    "import matplotlib.pyplot as plt\n",
    "# import numpy as np             - already imported above\n",
    "\n",
    "fig = plt.figure()\n",
    "ax = fig.gca(projection='3d')\n",
    "\n",
    "\n",
    "def cc(arg):\n",
    "    return colorConverter.to_rgba(arg, alpha=0.6)\n",
    "\n",
    "# xs = np.arange(0, 10, 0.4)   - original code\n",
    "xs = np.arange(0,180,1)        # new code\n",
    "verts = []\n",
    "# zs = [0.0, 1.0, 2.0, 3.0]    - original code\n",
    "zs = np.arange(0,84,1)         # new code\n",
    "\n",
    "for z in zs:\n",
    "    # ys = np.random.rand(len(xs)) - original code\n",
    "    # ys[0], ys[-1] = 0, 0         - original code\n",
    "    ys = chunks[z][:61]                 # new code\n",
    "    verts.append(list(zip(xs, ys)))\n",
    "\n",
    "poly = PolyCollection(verts, facecolors=[cc('r'), cc('g'), cc('b'),\n",
    "                                         cc('y')])\n",
    "poly.set_alpha(0.7)\n",
    "ax.add_collection3d(poly, zs=zs, zdir='y')\n",
    "\n",
    "\n",
    "\n",
    "ax.set_xlabel('Frequency (Hz)')\n",
    "# ax.set_xlim3d(0, 10)          - original code\n",
    "ax.set_xlim3d(0, 60)           # new code\n",
    "ax.set_ylabel('Length Along Exhst (N#)')\n",
    "# ax.set_ylim3d(-1, 4)          - original code\n",
    "ax.set_ylim3d(0, 84)\n",
    "ax.set_zlabel('Amplitude')\n",
    "# ax.set_zlim3d(0, 1)           - original code\n",
    "ax.set_zlim3d(0, 10)             # new code\n",
    "\n",
    "plt.show()"
   ]
  },
  {
   "cell_type": "code",
   "execution_count": null,
   "metadata": {
    "collapsed": true
   },
   "outputs": [],
   "source": []
  },
  {
   "cell_type": "code",
   "execution_count": null,
   "metadata": {
    "collapsed": true
   },
   "outputs": [],
   "source": []
  }
 ],
 "metadata": {
  "anaconda-cloud": {},
  "kernelspec": {
   "display_name": "Python [Root]",
   "language": "python",
   "name": "Python [Root]"
  },
  "language_info": {
   "codemirror_mode": {
    "name": "ipython",
    "version": 2
   },
   "file_extension": ".py",
   "mimetype": "text/x-python",
   "name": "python",
   "nbconvert_exporter": "python",
   "pygments_lexer": "ipython2",
   "version": "2.7.12"
  },
  "nbpresent": {
   "slides": {
    "131fba46-bbe3-411b-892e-db2955e42517": {
     "id": "131fba46-bbe3-411b-892e-db2955e42517",
     "prev": "52c7edb0-dab3-4229-8b8c-f6823c795961",
     "regions": {
      "4d648b5b-168d-4420-89e3-53547f2b7e21": {
       "attrs": {
        "height": 0.8,
        "width": 0.8,
        "x": 0.1,
        "y": 0.1
       },
       "content": {
        "cell": "f4254e27-26c0-469e-b5d6-44e865433dd1",
        "part": "whole"
       },
       "id": "4d648b5b-168d-4420-89e3-53547f2b7e21"
      }
     }
    },
    "2614b19b-05f4-4652-add5-9d57518b14a2": {
     "id": "2614b19b-05f4-4652-add5-9d57518b14a2",
     "prev": "bc585132-dfb3-4aa8-b14a-63ecf6138278",
     "regions": {
      "76911461-dcb4-4501-8ea8-2e2e9cd94527": {
       "attrs": {
        "height": 0.8,
        "width": 0.8,
        "x": 0.1,
        "y": 0.1
       },
       "content": {
        "cell": "e515e416-38fc-4170-834a-879b5ea98ffb",
        "part": "whole"
       },
       "id": "76911461-dcb4-4501-8ea8-2e2e9cd94527"
      }
     }
    },
    "453bc642-2e3f-4019-8e68-568ef9b40207": {
     "id": "453bc642-2e3f-4019-8e68-568ef9b40207",
     "prev": "131fba46-bbe3-411b-892e-db2955e42517",
     "regions": {
      "c738997f-fb9d-4e79-962a-8fa8cb21f813": {
       "attrs": {
        "height": 0.8,
        "width": 0.8,
        "x": 0.1,
        "y": 0.1
       },
       "content": {
        "cell": "7079ab4e-648f-4d96-a46c-e33a89d58bd4",
        "part": "whole"
       },
       "id": "c738997f-fb9d-4e79-962a-8fa8cb21f813"
      }
     }
    },
    "52c7edb0-dab3-4229-8b8c-f6823c795961": {
     "id": "52c7edb0-dab3-4229-8b8c-f6823c795961",
     "prev": "fd7247cc-bf90-47e7-87f4-f8c63e2a0ff7",
     "regions": {
      "66370cad-35ac-442f-9852-fe717555ead6": {
       "attrs": {
        "height": 0.8,
        "width": 0.8,
        "x": 0.1,
        "y": 0.1
       },
       "content": {
        "cell": "b114b0d7-cc28-4513-8ede-788569ecdac5",
        "part": "whole"
       },
       "id": "66370cad-35ac-442f-9852-fe717555ead6"
      }
     }
    },
    "58ef72ea-690a-451c-99da-6ea84869cb09": {
     "id": "58ef72ea-690a-451c-99da-6ea84869cb09",
     "prev": "453bc642-2e3f-4019-8e68-568ef9b40207",
     "regions": {
      "43b30cae-e395-4eb5-b054-4342ed87fae7": {
       "attrs": {
        "height": 0.8,
        "width": 0.8,
        "x": 0.1,
        "y": 0.1
       },
       "content": {
        "cell": "a8e8e5cf-2b31-4b9a-b771-dfc52c07df4d",
        "part": "whole"
       },
       "id": "43b30cae-e395-4eb5-b054-4342ed87fae7"
      }
     }
    },
    "6ebc1959-71ec-4d53-972c-70e46ff5d2e0": {
     "id": "6ebc1959-71ec-4d53-972c-70e46ff5d2e0",
     "prev": "2614b19b-05f4-4652-add5-9d57518b14a2",
     "regions": {
      "b0612130-3f49-4249-88b6-8afb27d2fb3d": {
       "attrs": {
        "height": 0.8,
        "width": 0.8,
        "x": 0.1,
        "y": 0.1
       },
       "content": {
        "cell": "e884cc9e-8a91-4577-8a19-859af1bc9429",
        "part": "whole"
       },
       "id": "b0612130-3f49-4249-88b6-8afb27d2fb3d"
      }
     }
    },
    "a49f421a-e8c2-4826-886a-3648fd3961ec": {
     "id": "a49f421a-e8c2-4826-886a-3648fd3961ec",
     "prev": "e416b23b-1553-4bb9-811f-ecdd74433e61",
     "regions": {
      "0d63b310-5615-4840-8f5d-26b7d97184e6": {
       "attrs": {
        "height": 0.8,
        "width": 0.8,
        "x": 0.1,
        "y": 0.1
       },
       "content": {
        "cell": "6528a12a-c218-4165-ac33-e9c12ed47fa9",
        "part": "whole"
       },
       "id": "0d63b310-5615-4840-8f5d-26b7d97184e6"
      }
     }
    },
    "bc585132-dfb3-4aa8-b14a-63ecf6138278": {
     "id": "bc585132-dfb3-4aa8-b14a-63ecf6138278",
     "prev": null,
     "regions": {
      "1c2d5938-9755-4951-a0fe-f1b692020c05": {
       "attrs": {
        "height": 0.8,
        "width": 0.8,
        "x": 0.1,
        "y": 0.1
       },
       "content": {
        "cell": "c6607746-8de9-4f37-92b1-f4be97fc121a",
        "part": "whole"
       },
       "id": "1c2d5938-9755-4951-a0fe-f1b692020c05"
      }
     }
    },
    "e416b23b-1553-4bb9-811f-ecdd74433e61": {
     "id": "e416b23b-1553-4bb9-811f-ecdd74433e61",
     "prev": "58ef72ea-690a-451c-99da-6ea84869cb09",
     "regions": {
      "3cd12ba0-e6ac-4dd2-ad19-4cf186f1055f": {
       "attrs": {
        "height": 0.8,
        "width": 0.8,
        "x": 0.1,
        "y": 0.1
       },
       "content": {
        "cell": "4bbb5371-a964-4fe5-9e17-93a9312190c0",
        "part": "whole"
       },
       "id": "3cd12ba0-e6ac-4dd2-ad19-4cf186f1055f"
      }
     }
    },
    "fd7247cc-bf90-47e7-87f4-f8c63e2a0ff7": {
     "id": "fd7247cc-bf90-47e7-87f4-f8c63e2a0ff7",
     "prev": "6ebc1959-71ec-4d53-972c-70e46ff5d2e0",
     "regions": {
      "4d3a02f4-b254-4033-aad1-6616956ff0c8": {
       "attrs": {
        "height": 0.8,
        "width": 0.8,
        "x": 0.1,
        "y": 0.1
       },
       "content": {
        "cell": "574b0097-c05d-47a5-86f9-ae1e5984bfaf",
        "part": "whole"
       },
       "id": "4d3a02f4-b254-4033-aad1-6616956ff0c8"
      }
     }
    }
   },
   "themes": {}
  }
 },
 "nbformat": 4,
 "nbformat_minor": 0
}
